{
 "cells": [
  {
   "cell_type": "markdown",
   "metadata": {},
   "source": [
    "# Pi Data Query"
   ]
  },
  {
   "cell_type": "markdown",
   "metadata": {},
   "source": [
    "### Libraries"
   ]
  },
  {
   "cell_type": "code",
   "execution_count": null,
   "metadata": {},
   "outputs": [],
   "source": [
    "import os\n",
    "import pandas as pd\n",
    "import numpy as np\n",
    "from datetime import datetime, timedelta\n",
    "import time\n",
    "import PIconnect as PI\n",
    "from PIconnect.PIConsts import SummaryType\n",
    "import math\n",
    "from itertools import product\n",
    "from tqdm import tqdm"
   ]
  },
  {
   "cell_type": "markdown",
   "metadata": {},
   "source": [
    "### Dataframe Acquisition"
   ]
  },
  {
   "cell_type": "code",
   "execution_count": null,
   "metadata": {},
   "outputs": [],
   "source": [
    "#Captures the file adress\n",
    "path = os.getcwd()\n",
    "datainput=pd.read_excel(path + '/TAGS_ROLLING.xlsx')\n",
    "datainput=datainput[pd.isnull(datainput.Tags) == False]"
   ]
  },
  {
   "cell_type": "markdown",
   "metadata": {},
   "source": [
    "### User input for plant and interval selection"
   ]
  },
  {
   "cell_type": "code",
   "execution_count": null,
   "metadata": {},
   "outputs": [],
   "source": [
    "#Lists unique values from the sheet\n",
    "plant_list=list(np.unique(datainput.Plant))\n",
    "\n",
    "#Appends All Plants option\n",
    "plant_list.append('All plants')\n",
    "\n",
    "#Prints the Plant \n",
    "print('Type one of the options below to select a plant.')\n",
    "for plant in plant_list:\n",
    "    print(plant_list.index(plant),'. ', plant_list[plant_list.index(plant)])\n",
    "\n",
    "#Awaits for the user to select the plant to download data\n",
    "plant_code=int(input('Select an option: (Ex.: 0, 1, 2, ... ) \\n'))\n",
    "\n",
    "#Checks if the user selected All Plants or a specific one\n",
    "if plant_code == len(plant_list)-1:\n",
    "    print('Uploading tag list')\n",
    "\n",
    "else:\n",
    "    print('Uploading tag list')\n",
    "    datainput=datainput[datainput.Plant==plant_list[plant_code]]\n",
    "    datainput.reset_index(inplace=True)\n",
    "\n",
    "#Function to replace blank bad data to nan\n",
    "def elim_text(val):\n",
    "    if (type(val) is float):\n",
    "        a=val\n",
    "    else:\n",
    "        a=np.nan\n",
    "    return a\n",
    "\n",
    "#Awaits user to insert a date value\n",
    "start_date=str(input(\"Insert starting date: (Ex.: dd/mm/yyyy) \\n\"))\n",
    "\n",
    "#Awaits user to insert a date value\n",
    "end_date=str(input(\"Insert end date: (Ex.: dd/mm/yyyy) \\n\"))\n",
    "\n",
    "#Sets the variable to a date type object\n",
    "start_date=datetime.strptime(start_date,\"%d/%m/%Y\")\n",
    "\n",
    "#Sets the variable to a date type object\n",
    "end_date=datetime.strptime(end_date,\"%d/%m/%Y\")\n",
    "\n",
    "#Sets start date as a string (required by PI to perform the query)\n",
    "start_date=datetime.strftime(start_date, \"%d/%m/%Y\")\n",
    "end_date=datetime.strftime(end_date, \"%d/%m/%Y\")\n",
    "\n",
    "#Sets time between each queried value\n",
    "interval='10m'\n",
    "variables=list(datainput.Tags)"
   ]
  },
  {
   "cell_type": "markdown",
   "metadata": {},
   "source": [
    "### PI Data Download"
   ]
  },
  {
   "cell_type": "code",
   "execution_count": null,
   "metadata": {},
   "outputs": [],
   "source": [
    "print('Connecting to PI', variables[0].split(\"\\\\\")[2])\n",
    "\n",
    "#Creates the PI Data Store Dataframe\n",
    "points=[]\n",
    "\n",
    "#Sets timezone\n",
    "PI.PIConfig.DEFAULT_TIMEZONE = 'America/Sao_Paulo'\n",
    "\n",
    "#Assign the PI TAGs to the list\n",
    "with PI.PIServer(variables[0].split(\"\\\\\")[2]) as server:\n",
    "    for ii in range(0,len(variables)):\n",
    "        points = points+server.search(variables[ii].split(\"\\\\\")[3])\n",
    "\n",
    "#Data download\n",
    "print(str(len(points)), 'Tags:', \"from \", start_date,\"to\", end_date)\n",
    "start=time.time()\n",
    "data1=0\n",
    "data2=0\n",
    "# tqdm or Taqadum shows the progress bar associated with the loop\n",
    "for ii in tqdm(range(0,round(len(points))), colour='red', desc=\"Download Progress\"):\n",
    "    error_cycle=0\n",
    "    while error_cycle<=10:\n",
    "        try:\n",
    "\n",
    "            #Queries the data in PI Server based in the time window, interval and summary type\n",
    "            data1 = points[ii].summaries(start_date, end_date, interval, SummaryType.AVERAGE) \n",
    "            data1.reset_index(inplace=True)\n",
    "\n",
    "            #Selects the WTG and variable name from the Excel file\n",
    "            variable_name=str(datainput.WTG_SAS[ii]) + \" - \" + str(datainput.VAR[ii])\n",
    "            data1.columns=['Time',variable_name]\n",
    "\n",
    "            #Apply to every data in column 'variable_name' the data treatment function\n",
    "            data1[variable_name]=data1.apply(lambda x: elim_text(x[variable_name]),axis=1)\n",
    "\n",
    "            #Stores the data frame to date2 with the timestamp as index\n",
    "            if ii==0:\n",
    "                data2=data1\n",
    "            else:\n",
    "                data2=pd.merge(data2,data1, on='Time')\n",
    "            break\n",
    "        except:\n",
    "            error_cycle+=1\n",
    "            print('error')\n",
    "            pass\n",
    "        else:\n",
    "            break"
   ]
  },
  {
   "cell_type": "markdown",
   "metadata": {},
   "source": [
    "### Process conclusion and output"
   ]
  },
  {
   "cell_type": "code",
   "execution_count": null,
   "metadata": {},
   "outputs": [],
   "source": [
    "#Saves file and finishes the process\n",
    "print('Saving file')\n",
    "start_date = start_date.replace(\"/\", \".\")\n",
    "end_date = end_date.replace(\"/\", \".\")\n",
    "data2.to_csv(path + '/PI Data Query - ' + plant_list[plant_code] + ' ' + start_date + '-' + end_date +'.csv')\n",
    "print('Calculation done, file saved in ' + path)\n",
    "input('Press enter to exit')"
   ]
  }
 ],
 "metadata": {
  "kernelspec": {
   "display_name": "Python 3",
   "language": "python",
   "name": "python3"
  },
  "language_info": {
   "codemirror_mode": {
    "name": "ipython",
    "version": 3
   },
   "file_extension": ".py",
   "mimetype": "text/x-python",
   "name": "python",
   "nbconvert_exporter": "python",
   "pygments_lexer": "ipython3",
   "version": "3.11.7"
  }
 },
 "nbformat": 4,
 "nbformat_minor": 2
}
